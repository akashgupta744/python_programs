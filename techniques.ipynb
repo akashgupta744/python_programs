{
 "cells": [
  {
   "cell_type": "code",
   "execution_count": 1,
   "metadata": {},
   "outputs": [
    {
     "name": "stdout",
     "output_type": "stream",
     "text": [
      "[1, 4, 5, 9, 20]\n"
     ]
    }
   ],
   "source": [
    "# Bubble sort\n",
    "l= eval(input('enter a list'))# [20,5,9,1,4]\n",
    "for i in range(len(l)-1):\n",
    "    for j in range(len(l)-1-i):\n",
    "        if l[j]>l[j+1]:\n",
    "            l[j],l[j+1] = l[j+1],l[j]\n",
    "print(l)\n",
    "            "
   ]
  },
  {
   "cell_type": "markdown",
   "metadata": {},
   "source": [
    "# itteration :1 ---i=0\n",
    "1. j=0\n",
    "    l[0]>l[l]\n",
    "    20 > 5\n",
    "    [5,20,9,1,4]\n",
    "2. j=1\n",
    "    l[1]>l[2]\n",
    "    20 > 9\n",
    "    [5,9,20,1,4]\n",
    "3. j=2\n",
    "    l[2]>l[3]\n",
    "    20 > 1\n",
    "    [5,9,1,20,4]\n",
    "4. j=3\n",
    "    l[3]>l[4]\n",
    "    20 > 4\n",
    "    [5,9,1,4,20]\n",
    "\n",
    "# itteration :2 ---i=1\n",
    "1. j=0\n",
    "    l[0]>l[l]\n",
    "    5 > 9--->False\n",
    "    so no need to swap\n",
    "2. j=1\n",
    "    l[1]>l[2]\n",
    "    9 > 1\n",
    "   [5,1,9,4,20]\n",
    "3. j=2\n",
    "    l[2]>l[3]\n",
    "    9 > 4\n",
    "    [5,1,4,9,20]\n",
    "\n",
    "# itteration :3 ---i=2\n",
    "1. j=0\n",
    "    l[0]>l[l]\n",
    "    5 > 1\n",
    "    [1,5,4,9,20]\n",
    "2. j=1\n",
    "    l[1]>l[2]\n",
    "    5 > 4\n",
    "    [1,4,5,9,20]\n",
    "\n",
    "# itteration :4 ---i=3\n",
    "1. j=0\n",
    "    l[0]>l[1]\n",
    "    1>4----false\n"
   ]
  },
  {
   "cell_type": "code",
   "execution_count": 2,
   "metadata": {},
   "outputs": [
    {
     "name": "stdout",
     "output_type": "stream",
     "text": [
      "3\n"
     ]
    }
   ],
   "source": [
    "#  index position of min value in list\n",
    "l=eval(input('enter a list')) # [20,5,9,1,4]\n",
    "m=0\n",
    "for i in range(1,len(l)):\n",
    "    if l[i]<l[m]:\n",
    "        m=i\n",
    "print(m)"
   ]
  },
  {
   "cell_type": "markdown",
   "metadata": {},
   "source": [
    "# itteration :1--i=0\n",
    "1. l[1] < l[0]\n",
    "    5<20 -- m=1\n",
    "2. l[2] < l[1]\n",
    "    9<5\n",
    "3. l[3] < l[1]\n",
    "    1<5 -- m=3\n",
    "4. l[4] < l[3]\n",
    "    4<1\n",
    "print(m)==3"
   ]
  },
  {
   "cell_type": "code",
   "execution_count": 3,
   "metadata": {},
   "outputs": [
    {
     "name": "stdout",
     "output_type": "stream",
     "text": [
      "[2, 4, 22, 34, 55, 78, 661]\n"
     ]
    }
   ],
   "source": [
    "# selection sort\n",
    "#l=eval(input('enter a list'))\n",
    "l=[22,34,661,2,4,55,78]\n",
    "n=len(l)\n",
    "for i in range(n-1):\n",
    "    m=i\n",
    "    for c in range(i+1,n):\n",
    "        if l[c] < l[m]:\n",
    "            m=c\n",
    "    l[i],l[m]=l[m],l[i]\n",
    "print(l)"
   ]
  },
  {
   "cell_type": "code",
   "execution_count": 4,
   "metadata": {},
   "outputs": [
    {
     "name": "stdout",
     "output_type": "stream",
     "text": [
      "[21, 23, 24, 54, 56, 57]\n"
     ]
    }
   ],
   "source": [
    "# merge sort\n",
    "def merge(l):\n",
    "    if len(l)==1:\n",
    "        return l\n",
    "    LL,RL=l[0:len(l)//2],l[len(l)//2:]\n",
    "    merge(LL)\n",
    "    merge(RL)\n",
    "    li=ri=ind=0\n",
    "    while li<len(LL) and ri<len(RL):\n",
    "        if LL[li] < RL[ri]:\n",
    "            l[ind]=LL[li]\n",
    "            li+=1\n",
    "\n",
    "        else:\n",
    "            l[ind]=RL[ri]\n",
    "            ri+=1\n",
    "        ind+=1\n",
    "    \n",
    "    while li<len(LL):\n",
    "        l[ind]=LL[li]\n",
    "        ind+=1\n",
    "        li+=1\n",
    "\n",
    "    while ri<len(RL):\n",
    "        l[ind]=RL[ri]\n",
    "        ind+=1\n",
    "        ri+=1\n",
    "\n",
    "l=[54,23,56,21,24,57]\n",
    "merge(l)\n",
    "print(l)\n",
    "\n"
   ]
  },
  {
   "cell_type": "code",
   "execution_count": 5,
   "metadata": {},
   "outputs": [
    {
     "data": {
      "text/plain": [
       "[1, 2, 5, 6, 7, 9, 35, 43, 56, 65]"
      ]
     },
     "execution_count": 5,
     "metadata": {},
     "output_type": "execute_result"
    }
   ],
   "source": [
    "# quick sort\n",
    "def quick(l):\n",
    "    if len(l)==0:\n",
    "        return l\n",
    "    pivot=l[0]\n",
    "    left=[i for i in l[1:] if i<pivot]\n",
    "    right=[i for i in l[1:] if i>=pivot]\n",
    "    return quick(left) + [pivot] + quick(right)\n",
    "\n",
    "l=[43,2,1,56,7,9,65,35,5,6]\n",
    "quick(l)\n"
   ]
  },
  {
   "cell_type": "code",
   "execution_count": 15,
   "metadata": {},
   "outputs": [
    {
     "name": "stdout",
     "output_type": "stream",
     "text": [
      "5\n"
     ]
    }
   ],
   "source": [
    "# binary search\n",
    "l=[11,6,22,44,4,90,43]\n",
    "user=int(input())\n",
    "l.sort()\n",
    "lowind=0\n",
    "highind=len(l)-1\n",
    "while lowind<=highind and l[lowind]<=user<=l[highind]:\n",
    "    mid=(lowind+highind)//2\n",
    "    if l[mid] < user:\n",
    "        lowind=mid+1\n",
    "    elif l[mid] > user:\n",
    "        highind=mid-1\n",
    "    elif l[mid]==user:\n",
    "        print(mid)\n",
    "        break\n",
    "else:\n",
    "    print(-1)\n",
    "    "
   ]
  },
  {
   "cell_type": "code",
   "execution_count": 45,
   "metadata": {},
   "outputs": [
    {
     "name": "stdout",
     "output_type": "stream",
     "text": [
      "6\n"
     ]
    }
   ],
   "source": [
    "#linear search\n",
    "l=[11,6,22,44,4,90,43]\n",
    "user=int(input())\n",
    "for i in range(0,len(l)):\n",
    "    if l[i]==user:\n",
    "        print(i)\n",
    "        break\n",
    "else:\n",
    "    print(-1)"
   ]
  },
  {
   "cell_type": "code",
   "execution_count": 64,
   "metadata": {},
   "outputs": [
    {
     "name": "stdout",
     "output_type": "stream",
     "text": [
      "10110\n",
      "22\n",
      "-13\n"
     ]
    }
   ],
   "source": [
    "n=5\n",
    "print(bin(22)[2:])\n",
    "b='10110'\n",
    "print(int(b,2))\n",
    "from functools import reduce\n",
    "s=reduce(lambda x,y:x-y,[1,2,3,4,5])\n",
    "print(s)"
   ]
  },
  {
   "cell_type": "code",
   "execution_count": 9,
   "metadata": {},
   "outputs": [
    {
     "name": "stdout",
     "output_type": "stream",
     "text": [
      "[5, 8, 5, 0, 0, 1, 7, 6, 2, 4, 5, 2, 4, 2, 4, 7, 7, 1, 7, 0, 6, 7, 6, 1, 0, 1, 8, 8, 3, 8, 7, 3, 6, 5, 1, 3, 4, 8, 1, 4, 0, 3, 2, 0, 4, 2, 7, 7, 8, 6, 3, 7, 7, 4, 5, 3, 6, 8, 0, 2, 7, 7, 7, 3, 0, 8, 7, 7, 1, 1, 3, 0, 8, 6, 4, 5, 6, 2, 5, 7, 8, 4, 4, 7, 7, 4, 0, 2, 0, 7, 1, 7, 8, 4, 0, 1, 8, 2, 3, 1]\n"
     ]
    }
   ],
   "source": [
    "# generate random integer values\n",
    "from numpy.random import seed\n",
    "from numpy.random import randint\n",
    "# seed random number generator\n",
    "seed(1)\n",
    "# generate some integers\n",
    "values = randint(0, 9, 100)\n",
    "l=values\n",
    "print(list(l))"
   ]
  }
 ],
 "metadata": {
  "kernelspec": {
   "display_name": "Python 3",
   "language": "python",
   "name": "python3"
  },
  "language_info": {
   "codemirror_mode": {
    "name": "ipython",
    "version": 3
   },
   "file_extension": ".py",
   "mimetype": "text/x-python",
   "name": "python",
   "nbconvert_exporter": "python",
   "pygments_lexer": "ipython3",
   "version": "3.12.1"
  },
  "orig_nbformat": 4
 },
 "nbformat": 4,
 "nbformat_minor": 2
}
