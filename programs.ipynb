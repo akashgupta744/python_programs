{
 "cells": [
  {
   "cell_type": "code",
   "execution_count": 6,
   "metadata": {},
   "outputs": [
    {
     "name": "stdout",
     "output_type": "stream",
     "text": [
      "(2, 8)\n",
      "(4, 6)\n",
      "(7, 3)\n",
      "(7, 3)\n",
      "(6, 4)\n"
     ]
    }
   ],
   "source": [
    "l=[2,8,4,5,7,3,6,4,3]\n",
    "k=10\n",
    "for i in range(len(l)-1):\n",
    "    for j in range(i+1,len(l)):\n",
    "        if l[i]+l[j]==k:\n",
    "            print((l[i],l[j]))\n",
    "    \n"
   ]
  },
  {
   "cell_type": "code",
   "execution_count": 12,
   "metadata": {},
   "outputs": [
    {
     "name": "stdout",
     "output_type": "stream",
     "text": [
      "(2, 8) (8, 2)\n",
      "(4, 6) (6, 4)\n",
      "(7, 3) (3, 7)\n",
      "(7, 3) (3, 7)\n",
      "(6, 4) (4, 6)\n"
     ]
    }
   ],
   "source": [
    "l=[2,8,4,5,7,3,6,4,3]\n",
    "k=10\n",
    "v=0\n",
    "for i in range(len(l)):\n",
    "    for j in range(i+1,len(l)):\n",
    "        if l[i]+l[j]==k :\n",
    "            print((l[i],l[j]),(l[j],l[i]))\n",
    "    \n",
    "\n"
   ]
  },
  {
   "cell_type": "code",
   "execution_count": 20,
   "metadata": {},
   "outputs": [
    {
     "name": "stdout",
     "output_type": "stream",
     "text": [
      "(2, 8) is index of (0, 1)\n",
      "(4, 6) is index of (2, 6)\n",
      "(7, 3) is index of (4, 5)\n",
      "(7, 3) is index of (4, 8)\n",
      "(6, 4) is index of (6, 7)\n"
     ]
    }
   ],
   "source": [
    "l=[2,8,4,5,7,3,6,4,3]\n",
    "k=10\n",
    "for i in range(len(l)):\n",
    "    for j in range(i+1,len(l)):\n",
    "        if l[i]+l[j]==k :\n",
    "            print((l[i],l[j]),'is index of',(i,j))\n",
    "    \n"
   ]
  },
  {
   "cell_type": "code",
   "execution_count": 7,
   "metadata": {},
   "outputs": [
    {
     "name": "stdout",
     "output_type": "stream",
     "text": [
      "2 4\n",
      "6 6\n"
     ]
    }
   ],
   "source": [
    "l=eval(input('enter a list')) # [1,10,3,2,7,6,12]\n",
    "target=int(input('enter a target value'))  # 12\n",
    "for i in range(len(l)):\n",
    "    for j in range(i+1,len(l)+1):\n",
    "        x=l[i:j]\n",
    "        if sum(x)==target:\n",
    "            print(i,j-1)\n",
    "            break\n",
    "        if sum(x)>target:\n",
    "            break"
   ]
  },
  {
   "cell_type": "markdown",
   "metadata": {},
   "source": [
    "# itteration :1 ---i=0\n",
    "1. j=1\n",
    "    x=l[0:1]\n",
    "    1--1==12--1>12\n",
    "2. j=2\n",
    "    x=l[0:2]\n",
    "    1+10--11==12--11>12\n",
    "3. j=3\n",
    "    x=l[0:3]\n",
    "    1+10+3--13==12--13>12\n",
    "    break\n",
    "# itteration :2 ---i=1\n",
    "1. j=2\n",
    "    x=l[1:2]\n",
    "    10+3--13==12--13>12\n",
    "    break\n",
    "# itteration :3 ---i=2\n",
    "1. j=3\n",
    "    x=l[2:3]\n",
    "    3--3==12--3>12\n",
    "2. j=4\n",
    "    x=l[2:4]\n",
    "    3+2--5==12--5>12\n",
    "3. j=5\n",
    "    x=l[2:5]\n",
    "    3+5+7--12==12\n",
    "    print(2:4) #i,j-1\n",
    "# itteration :4 ---i=3\n",
    "[1,10,3,2,7,6]\n",
    "1. j=4\n",
    "    x=l[3:4]\n",
    "    2+7--9==12--9>12\n",
    "2. j=5\n",
    "    x=l[3:5]\n",
    "    2+7+6--15==12--15>12\n",
    "    break\n",
    "# itteration :5 ---i=4\n",
    "[1,10,3,2,7,6]\n",
    "1. j=5\n",
    "    x=l[4:5]\n",
    "    7+6--13==12--13>12\n",
    "    break\n",
    "\n"
   ]
  },
  {
   "cell_type": "code",
   "execution_count": 2,
   "metadata": {},
   "outputs": [
    {
     "name": "stdout",
     "output_type": "stream",
     "text": [
      "sum of elements [2, 8] is a index of [0, 1]\n",
      "sum of elements [4, 5, 1] is a index of [2, 3, 4]\n",
      "sum of elements [10] is a index of [5]\n",
      "sum of elements [2, 6, 2] is a index of [6, 7, 8]\n",
      "sum of elements [2, 8] is a index of [8, 9]\n"
     ]
    }
   ],
   "source": [
    "l=eval(input('enter a list'))  #[2,8,4,5,1,10,2,6,2,8,11] \n",
    "v=10\n",
    "summ=0\n",
    "a=[]\n",
    "b=[]\n",
    "for i in range(len(l)):\n",
    "    summ+=l[i]\n",
    "    a.append(i) or b.append (l[i])\n",
    "    for j in range(i+1,len(l)):\n",
    "        if summ==v:\n",
    "            print('sum of elements',b,'is a index of',a)\n",
    "            summ=0\n",
    "            a.clear() or b.clear()\n",
    "            break\n",
    "        else:\n",
    "            summ+=l[j]\n",
    "            a.append(j) or b.append (l[j])\n",
    "            if summ==v:\n",
    "                print('sum of elements',b,'is a index of',a)\n",
    "                summ=0\n",
    "                a.clear() or b.clear()\n",
    "                break\n",
    "            if summ > v:\n",
    "                summ=0\n",
    "                a.clear() or b.clear()\n",
    "                break\n",
    "                "
   ]
  },
  {
   "cell_type": "code",
   "execution_count": 4,
   "metadata": {},
   "outputs": [
    {
     "name": "stdout",
     "output_type": "stream",
     "text": [
      "[77, 44, 22, 2, 78, 56, 34, 12]\n",
      "[12, 34, 56, 78, 2, 22, 44, 77]\n"
     ]
    }
   ],
   "source": [
    "# wap to revers a list with out using inbuilt methods\n",
    "l=eval(input('enter a list')) # [12,34,56,78,2,22,44,77]\n",
    "n=len(l)\n",
    "for i in range(n//2):\n",
    "    l[i],l[n-i-1]=l[n-i-1],l[i]\n",
    "print(l)\n",
    "#      or\n",
    "for i in range(n//2):\n",
    "    l[i],l[-(i+1)]=l[-(i+1)],l[i]\n",
    "print(l)\n"
   ]
  },
  {
   "cell_type": "code",
   "execution_count": 16,
   "metadata": {},
   "outputs": [
    {
     "name": "stdout",
     "output_type": "stream",
     "text": [
      "invalid\n"
     ]
    }
   ],
   "source": [
    "ERP=int(input('enter a grade'))\n",
    "if ERP in range(30,51):\n",
    "    print('D')\n",
    "elif ERP in range(51,61):\n",
    "    print('C')\n",
    "elif ERP in range(61,81):\n",
    "    print('B')\n",
    "elif ERP in range(81,101):\n",
    "    print('A')\n",
    "else:\n",
    "    print('invalid')\n",
    "\n",
    "\n"
   ]
  },
  {
   "cell_type": "code",
   "execution_count": 10,
   "metadata": {},
   "outputs": [
    {
     "name": "stdout",
     "output_type": "stream",
     "text": [
      "3\n"
     ]
    }
   ],
   "source": [
    "s='aa a234bc@ sad$ hsagd^'\n",
    "count=0\n",
    "for i in s:\n",
    "    if not i.isalnum() and i!=' ':\n",
    "        count+=1\n",
    "print(count)"
   ]
  },
  {
   "cell_type": "code",
   "execution_count": 15,
   "metadata": {},
   "outputs": [
    {
     "name": "stdout",
     "output_type": "stream",
     "text": [
      "j\n"
     ]
    }
   ],
   "source": [
    "strsent=input('enter a string') # abcdfgerj\n",
    "strrec=input('enter a string')  # abcdfger\n",
    "for i in strsent:\n",
    "    if strsent.count(i)>strrec.count(i):\n",
    "        print(i)"
   ]
  },
  {
   "cell_type": "code",
   "execution_count": 40,
   "metadata": {},
   "outputs": [
    {
     "name": "stdout",
     "output_type": "stream",
     "text": [
      "90\n"
     ]
    }
   ],
   "source": [
    "# wap to print second largest no. with out using sort sorted\n",
    "l=eval(input('enter a list')) # [89,23,14,888,45,23,13,90]\n",
    "for i in range(len(l)):\n",
    "    m=i\n",
    "\n",
    "    for c in range(i+1,len(l)):\n",
    "        if l[c] > l[m] :\n",
    "            m=c\n",
    "    l[i],l[m]=l[m],l[i]\n",
    "    if i==1:\n",
    "        print(l[i])\n",
    "        break\n",
    "    "
   ]
  },
  {
   "cell_type": "code",
   "execution_count": 41,
   "metadata": {},
   "outputs": [
    {
     "name": "stdout",
     "output_type": "stream",
     "text": [
      "14\n"
     ]
    }
   ],
   "source": [
    "# wap to print second minimum no.\n",
    "l=eval(input('enter a list')) # [89,23,14,888,45,23,13,90]\n",
    "for i in range(len(l)):\n",
    "    m=i\n",
    "\n",
    "    for c in range(i+1,len(l)):\n",
    "        if l[c] < l[m] :\n",
    "            m=c\n",
    "    l[i],l[m]=l[m],l[i]\n",
    "    if i==1:\n",
    "        print(l[i])\n",
    "        break\n",
    "    \n"
   ]
  },
  {
   "cell_type": "code",
   "execution_count": 20,
   "metadata": {},
   "outputs": [
    {
     "name": "stdout",
     "output_type": "stream",
     "text": [
      "EMIRP NO.\n"
     ]
    }
   ],
   "source": [
    "# wap to check given no is EMIRP.\n",
    "n=int(input('enter a value'))\n",
    "dummy=n\n",
    "rev=0\n",
    "while dummy>0:\n",
    "    r=dummy%10\n",
    "    dummy=dummy//10\n",
    "    rev=rev*10+r\n",
    "if n==rev:\n",
    "    print('not a EMIRP NO.') \n",
    "else:\n",
    "    if n>1:\n",
    "        for i in range(2,n//2+1):\n",
    "            if (n%i==0):\n",
    "                print('not a EMIRP NO.') \n",
    "                break\n",
    "        else:\n",
    "            if rev>1:\n",
    "                for j in range(2,rev//2+1):\n",
    "                    if (rev%j==0):\n",
    "                        print('not a EMIRP NO.') \n",
    "                        break\n",
    "                else:\n",
    "                    print('EMIRP NO.')\n",
    "            else:\n",
    "                print('not a EMIRP NO.') \n",
    "    else:\n",
    "        print('not a EMIRP NO.')        "
   ]
  },
  {
   "cell_type": "code",
   "execution_count": 5,
   "metadata": {},
   "outputs": [
    {
     "name": "stdout",
     "output_type": "stream",
     "text": [
      "a = 3\n"
     ]
    }
   ],
   "source": [
    "# most repeated character in string\n",
    "s=input('enter the string') #akash\n",
    "d={}\n",
    "for i in s:\n",
    "    if i.isalpha():\n",
    "        d[i]=s.count(i)\n",
    "mx=max(d.values())\n",
    "for k,v in d.items():\n",
    "    if v==mx:\n",
    "        print(k,'=',v)\n"
   ]
  },
  {
   "cell_type": "code",
   "execution_count": 17,
   "metadata": {},
   "outputs": [
    {
     "name": "stdout",
     "output_type": "stream",
     "text": [
      "34\n"
     ]
    }
   ],
   "source": [
    "# second maximum element in list with out uaing any inbuilt method\n",
    "def second_largest(numbers):\n",
    "    first = second = min(numbers) # initialize both to the smallest value\n",
    "    for num in numbers: # loop through the list\n",
    "        if num > first: # if the current number is larger than the first\n",
    "            second = first # update the second to be the previous first\n",
    "            first = num # update the first to be the current number\n",
    "            \n",
    "        elif num > second and num < first: # if the current number is between the first and the second\n",
    "            second = num # update the second to be the current number\n",
    "    return second # return the second largest element\n",
    "print(second_largest([34,86,12,8]))\n"
   ]
  },
  {
   "cell_type": "code",
   "execution_count": null,
   "metadata": {},
   "outputs": [],
   "source": []
  }
 ],
 "metadata": {
  "kernelspec": {
   "display_name": "Python 3",
   "language": "python",
   "name": "python3"
  },
  "language_info": {
   "codemirror_mode": {
    "name": "ipython",
    "version": 3
   },
   "file_extension": ".py",
   "mimetype": "text/x-python",
   "name": "python",
   "nbconvert_exporter": "python",
   "pygments_lexer": "ipython3",
   "version": "3.12.2"
  },
  "orig_nbformat": 4
 },
 "nbformat": 4,
 "nbformat_minor": 2
}
